{
  "cells": [
    {
      "cell_type": "markdown",
      "metadata": {
        "id": "a5zPU4pHdEHf"
      },
      "source": [
        "## 1. RNN (Bidirectional LSTM)"
      ]
    },
    {
      "cell_type": "markdown",
      "metadata": {},
      "source": [
        "This model architecture, featuring Bidirectional LSTM layers, GloVe embeddings, dense layers, and dropout regularization, is designed to efficiently capture the contextual dependencies in text data and perform accurate sentiment classification. By leveraging pre-trained embeddings and advanced RNN techniques, the model aims to achieve high accuracy while maintaining efficient training performance."
      ]
    },
    {
      "cell_type": "markdown",
      "metadata": {},
      "source": [
        "Imoprt libraries:"
      ]
    },
    {
      "cell_type": "code",
      "execution_count": 22,
      "metadata": {},
      "outputs": [
        {
          "name": "stderr",
          "output_type": "stream",
          "text": [
            "[nltk_data] Downloading package punkt to\n",
            "[nltk_data]     /Users/katarinalitricin/nltk_data...\n",
            "[nltk_data]   Package punkt is already up-to-date!\n",
            "[nltk_data] Downloading package stopwords to\n",
            "[nltk_data]     /Users/katarinalitricin/nltk_data...\n",
            "[nltk_data]   Package stopwords is already up-to-date!\n",
            "[nltk_data] Downloading package wordnet to\n",
            "[nltk_data]     /Users/katarinalitricin/nltk_data...\n",
            "[nltk_data]   Package wordnet is already up-to-date!\n"
          ]
        },
        {
          "data": {
            "text/plain": [
              "True"
            ]
          },
          "execution_count": 22,
          "metadata": {},
          "output_type": "execute_result"
        }
      ],
      "source": [
        "import pandas as pd\n",
        "import numpy as np\n",
        "import matplotlib.pyplot as plt\n",
        "import re\n",
        "from nltk.corpus import stopwords\n",
        "from nltk.tokenize import word_tokenize\n",
        "from nltk.stem import WordNetLemmatizer\n",
        "from tensorflow.keras.preprocessing.text import Tokenizer\n",
        "from tensorflow.keras.preprocessing.sequence import pad_sequences\n",
        "from tensorflow.keras.models import Sequential\n",
        "from tensorflow.keras.layers import Embedding, Bidirectional, LSTM, Dense, Dropout\n",
        "from tensorflow.keras.initializers import Constant\n",
        "from tensorflow.keras.callbacks import EarlyStopping, ReduceLROnPlateau\n",
        "from sklearn.model_selection import train_test_split\n",
        "import nltk\n",
        "\n",
        "nltk.download('punkt')\n",
        "nltk.download('stopwords')\n",
        "nltk.download('wordnet')\n"
      ]
    },
    {
      "cell_type": "markdown",
      "metadata": {},
      "source": [
        "Load and preprocess data"
      ]
    },
    {
      "cell_type": "code",
      "execution_count": 14,
      "metadata": {},
      "outputs": [
        {
          "name": "stderr",
          "output_type": "stream",
          "text": [
            "/opt/anaconda3/envs/tf-gpu/lib/python3.8/site-packages/datasets/load.py:1486: FutureWarning: The repository for sentiment140 contains custom code which must be executed to correctly load the dataset. You can inspect the repository content at https://hf.co/datasets/sentiment140\n",
            "You can avoid this message in future by passing the argument `trust_remote_code=True`.\n",
            "Passing `trust_remote_code=True` will be mandatory to load this dataset from the next major release of `datasets`.\n",
            "  warnings.warn(\n"
          ]
        }
      ],
      "source": [
        "# Load the dataset\n",
        "from datasets import load_dataset\n",
        "dataset = load_dataset(\"sentiment140\", split='train')\n",
        "df = pd.DataFrame(dataset)\n",
        "\n",
        "# Rename columns for convenience\n",
        "df = df.rename(columns={\"sentiment\": \"target\", \"text\": \"text\"})\n",
        "\n",
        "# Drop rows with NaN values\n",
        "df.dropna(subset=['target', 'text'], inplace=True)\n",
        "\n",
        "# Convert to binary classification (0: negative, 1: positive)\n",
        "df['target'] = df['target'].apply(lambda x: 1 if x == 4 else 0)\n",
        "\n",
        "# Initialize lemmatizer and stopwords\n",
        "lemmatizer = WordNetLemmatizer()\n",
        "stop_words = set(stopwords.words('english'))\n",
        "\n",
        "def preprocess_text(text):\n",
        "    text_cleaning_re = \"@\\\\S+|https?:\\\\S+|http?:\\\\S|[^A-Za-z0-9]+\"\n",
        "    text = re.sub(text_cleaning_re, ' ', str(text).lower()).strip()\n",
        "    text = re.sub(r'[^\\w\\s]', '', text)\n",
        "    words = word_tokenize(text)\n",
        "    words = [word for word in words if word not in stop_words]\n",
        "    words = [lemmatizer.lemmatize(word) for word in words]\n",
        "    return ' '.join(words)\n",
        "\n",
        "df['text'] = df['text'].apply(preprocess_text)\n",
        "\n",
        "# Split the data\n",
        "X_train, X_test, y_train, y_test = train_test_split(df['text'], df['target'], test_size=0.2, random_state=42)\n"
      ]
    },
    {
      "cell_type": "markdown",
      "metadata": {},
      "source": [
        "Tokenize and Pad Sequences"
      ]
    },
    {
      "cell_type": "code",
      "execution_count": 15,
      "metadata": {},
      "outputs": [],
      "source": [
        "# Tokenization and padding\n",
        "max_length = 100\n",
        "vocab_size = 20000\n",
        "embedding_dim = 100\n",
        "\n",
        "tokenizer = Tokenizer(num_words=vocab_size)\n",
        "tokenizer.fit_on_texts(X_train)\n",
        "\n",
        "X_train_seq = tokenizer.texts_to_sequences(X_train)\n",
        "X_test_seq = tokenizer.texts_to_sequences(X_test)\n",
        "\n",
        "X_train_pad = pad_sequences(X_train_seq, maxlen=max_length)\n",
        "X_test_pad = pad_sequences(X_test_seq, maxlen=max_length)\n"
      ]
    },
    {
      "cell_type": "markdown",
      "metadata": {},
      "source": [
        "Load GloVe Embeddings"
      ]
    },
    {
      "cell_type": "code",
      "execution_count": 16,
      "metadata": {},
      "outputs": [],
      "source": [
        "# Load GloVe embeddings\n",
        "embedding_index = {}\n",
        "with open('glove.6B.100d.txt', encoding='utf-8') as f:\n",
        "    for line in f:\n",
        "        values = line.split()\n",
        "        word = values[0]\n",
        "        coefs = np.asarray(values[1:], dtype='float32')\n",
        "        embedding_index[word] = coefs\n",
        "\n",
        "embedding_matrix = np.zeros((vocab_size, embedding_dim))\n",
        "for word, i in tokenizer.word_index.items():\n",
        "    if i < vocab_size:\n",
        "        embedding_vector = embedding_index.get(word)\n",
        "        if embedding_vector is not None:\n",
        "            embedding_matrix[i] = embedding_vector\n"
      ]
    },
    {
      "cell_type": "markdown",
      "metadata": {},
      "source": [
        "Build the RNN model:"
      ]
    },
    {
      "cell_type": "code",
      "execution_count": 17,
      "metadata": {},
      "outputs": [
        {
          "name": "stdout",
          "output_type": "stream",
          "text": [
            "Model: \"sequential\"\n",
            "_________________________________________________________________\n",
            " Layer (type)                Output Shape              Param #   \n",
            "=================================================================\n",
            " embedding (Embedding)       (None, 100, 100)          2000000   \n",
            "                                                                 \n",
            " bidirectional (Bidirection  (None, 100, 128)          84480     \n",
            " al)                                                             \n",
            "                                                                 \n",
            " bidirectional_1 (Bidirecti  (None, 128)               98816     \n",
            " onal)                                                           \n",
            "                                                                 \n",
            " dense (Dense)               (None, 64)                8256      \n",
            "                                                                 \n",
            " dropout (Dropout)           (None, 64)                0         \n",
            "                                                                 \n",
            " dense_1 (Dense)             (None, 1)                 65        \n",
            "                                                                 \n",
            "=================================================================\n",
            "Total params: 2191617 (8.36 MB)\n",
            "Trainable params: 191617 (748.50 KB)\n",
            "Non-trainable params: 2000000 (7.63 MB)\n",
            "_________________________________________________________________\n"
          ]
        }
      ],
      "source": [
        "# Build the RNN model\n",
        "model = Sequential()\n",
        "model.add(Embedding(input_dim=vocab_size,\n",
        "                    output_dim=embedding_dim,\n",
        "                    embeddings_initializer=Constant(embedding_matrix),\n",
        "                    input_length=max_length,\n",
        "                    trainable=False))\n",
        "model.add(Bidirectional(LSTM(64, return_sequences=True)))\n",
        "model.add(Bidirectional(LSTM(64)))\n",
        "model.add(Dense(64, activation='relu'))\n",
        "model.add(Dropout(0.5))\n",
        "model.add(Dense(1, activation='sigmoid'))\n",
        "\n",
        "model.compile(optimizer='adam', loss='binary_crossentropy', metrics=['accuracy'])\n",
        "model.summary()\n"
      ]
    },
    {
      "cell_type": "markdown",
      "metadata": {},
      "source": [
        "### Architecture:\n",
        "\n",
        "The RNN model was designed to achieve high accuracy while being efficient in training. Here's a detailed explanation of the architecture and the rationale behind each component:\n",
        "\n",
        "- Embedding Layer\n",
        "\n",
        "The embedding layer transforms input words into dense vector representations using pre-trained GloVe embeddings. GloVe (Global Vectors for Word Representation) embeddings are pre-trained on large corpora and capture semantic relationships between words. Using these embeddings helps our model leverage this rich, pre-existing knowledge, improving its performance even with limited training data. The layer takes sequences of integers (each representing a word) as input and produces dense vector representations for each word in the sequence.\n",
        "\n",
        "- Bidirectional LSTM Layers\n",
        "\n",
        "The Bidirectional LSTM layers capture long-term dependencies and context in the text data. LSTMs (Long Short-Term Memory networks) are a type of RNN capable of learning long-term dependencies, which is crucial for understanding context in text sequences. A Bidirectional LSTM processes the input sequence in both forward and backward directions, allowing the model to have access to past and future context, improving its ability to understand the sentiment of a text. The first Bidirectional LSTM outputs sequences to capture intermediate patterns, while the second Bidirectional LSTM further processes these sequences to capture higher-level patterns.\n",
        "\n",
        "- Dense Layer\n",
        "\n",
        "The dense layer combines the features extracted by the LSTM layers and performs the final classification. Dense layers (fully connected layers) are used to combine the features learned by previous layers and make the final classification decision. We use a moderate number of units (64) to balance complexity and performance, and the ReLU (Rectified Linear Unit) activation function introduces non-linearity, enabling the model to learn more complex patterns.\n",
        "\n",
        "- Dropout Layer\n",
        "\n",
        "The dropout layer prevents overfitting by randomly setting a fraction of input units to 0 during training. Dropout is a regularization technique that helps prevent overfitting by ensuring the model does not rely too heavily on any single feature. A dropout rate of 0.5 is a common choice that balances regularization and performance.\n",
        "\n",
        "- Output Layer\n",
        "\n",
        "The output layer produces the final classification output. "
      ]
    },
    {
      "cell_type": "markdown",
      "metadata": {},
      "source": [
        "Train the model:"
      ]
    },
    {
      "cell_type": "code",
      "execution_count": 21,
      "metadata": {},
      "outputs": [
        {
          "name": "stdout",
          "output_type": "stream",
          "text": [
            "Epoch 1/10\n",
            "16000/16000 [==============================] - 2728s 171ms/step - loss: 0.4933 - accuracy: 0.7607 - val_loss: 0.4669 - val_accuracy: 0.7759 - lr: 0.0010\n",
            "Epoch 2/10\n",
            "16000/16000 [==============================] - 2721s 170ms/step - loss: 0.4617 - accuracy: 0.7817 - val_loss: 0.4600 - val_accuracy: 0.7795 - lr: 0.0010\n",
            "Epoch 3/10\n",
            "16000/16000 [==============================] - 2759s 172ms/step - loss: 0.4487 - accuracy: 0.7892 - val_loss: 0.4537 - val_accuracy: 0.7839 - lr: 0.0010\n",
            "Epoch 4/10\n",
            "16000/16000 [==============================] - 2899s 181ms/step - loss: 0.4386 - accuracy: 0.7949 - val_loss: 0.4553 - val_accuracy: 0.7862 - lr: 0.0010\n",
            "Epoch 5/10\n",
            "16000/16000 [==============================] - 3374s 211ms/step - loss: 0.4298 - accuracy: 0.8002 - val_loss: 0.4534 - val_accuracy: 0.7852 - lr: 0.0010\n",
            "Epoch 6/10\n",
            "16000/16000 [==============================] - 3211s 201ms/step - loss: 0.4219 - accuracy: 0.8047 - val_loss: 0.4563 - val_accuracy: 0.7849 - lr: 0.0010\n",
            "Epoch 7/10\n",
            "16000/16000 [==============================] - 3331s 208ms/step - loss: 0.4143 - accuracy: 0.8085 - val_loss: 0.4593 - val_accuracy: 0.7848 - lr: 0.0010\n",
            "Epoch 8/10\n",
            "16000/16000 [==============================] - 6096s 381ms/step - loss: 0.3904 - accuracy: 0.8210 - val_loss: 0.4661 - val_accuracy: 0.7839 - lr: 2.0000e-04\n",
            "10000/10000 [==============================] - 3282s 328ms/step - loss: 0.4539 - accuracy: 0.7852\n",
            "Test Accuracy: 78.52%\n"
          ]
        }
      ],
      "source": [
        "# Train the model\n",
        "early_stopping = EarlyStopping(monitor='val_loss', patience=3, restore_best_weights=True)\n",
        "reduce_lr = ReduceLROnPlateau(monitor='val_loss', factor=0.2, patience=2)\n",
        "\n",
        "history = model.fit(X_train_pad, y_train,\n",
        "                    epochs=10,\n",
        "                    batch_size=64,\n",
        "                    validation_split=0.2,\n",
        "                    callbacks=[early_stopping, reduce_lr])\n",
        "\n",
        "# Evaluate the model\n",
        "loss, accuracy = model.evaluate(X_test_pad, y_test)\n",
        "print(f'Test Accuracy: {accuracy * 100:.2f}%')\n"
      ]
    },
    {
      "cell_type": "markdown",
      "metadata": {},
      "source": [
        "### Training Process\n",
        "\n",
        "To train the model efficiently and achieve high accuracy, we use the Adam optimizer, binary cross-entropy loss function, and two callbacks: Early Stopping and ReduceLROnPlateau.\n",
        "\n",
        "The Adam optimizer is chosen for its adaptive learning rate and efficient handling of sparse gradients, making it well-suited for text data. The binary cross-entropy loss function measures the error between predicted probabilities and the actual binary labels, which is appropriate for our binary classification task.\n",
        "\n",
        "Early Stopping stops training when the validation loss stops improving, preventing overfitting and saving computational resources. ReduceLROnPlateau reduces the learning rate when the validation loss plateaus, helping the model converge more effectively."
      ]
    },
    {
      "cell_type": "markdown",
      "metadata": {},
      "source": [
        "### Plot Training and Validation Accuracy: "
      ]
    },
    {
      "cell_type": "code",
      "execution_count": 23,
      "metadata": {},
      "outputs": [
        {
          "data": {
            "text/plain": [
              "<matplotlib.legend.Legend at 0x296df3e80>"
            ]
          },
          "execution_count": 23,
          "metadata": {},
          "output_type": "execute_result"
        },
        {
          "data": {
            "image/png": "[encoded data removed]",
            "text/plain": [
              "<Figure size 1200x600 with 1 Axes>"
            ]
          },
          "metadata": {},
          "output_type": "display_data"
        }
      ],
      "source": [
        "plt.figure(figsize=(12, 6))\n",
        "\n",
        "plt.subplot(1, 2, 1)\n",
        "plt.plot(history.history['accuracy'])\n",
        "plt.plot(history.history['val_accuracy'])\n",
        "plt.title('Model accuracy')\n",
        "plt.ylabel('Accuracy')\n",
        "plt.xlabel('Epoch')\n",
        "plt.legend(['Train', 'Validation'], loc='upper left')\n"
      ]
    },
    {
      "cell_type": "markdown",
      "metadata": {},
      "source": [
        "As we can see from the plot, the early stopping mechanism successfully prevents further overfitting by halting training when validation accuracy stops improving. Training accuracy continues to increase beyond epoch 4, while validation accuracy starts to decline slightly, indicating potential overfitting.\n",
        "\n",
        "Moreover, both training and validation accuracy improve significantly in the first few epochs, indicating that the model is learning effectively. Validation accuracy plateaus around epoch 3, suggesting that the model's generalization performance stabilizes early."
      ]
    },
    {
      "cell_type": "markdown",
      "metadata": {},
      "source": [
        "### Plot Training and Validation Loss:"
      ]
    },
    {
      "cell_type": "code",
      "execution_count": 24,
      "metadata": {},
      "outputs": [
        {
          "data": {
            "image/png": "[encoded data removed]",
            "text/plain": [
              "<Figure size 640x480 with 1 Axes>"
            ]
          },
          "metadata": {},
          "output_type": "display_data"
        }
      ],
      "source": [
        "plt.subplot(1, 2, 2)\n",
        "plt.plot(history.history['loss'])\n",
        "plt.plot(history.history['val_loss'])\n",
        "plt.title('Model loss')\n",
        "plt.ylabel('Loss')\n",
        "plt.xlabel('Epoch')\n",
        "plt.legend(['Train', 'Validation'], loc='upper left')\n",
        "\n",
        "plt.tight_layout()\n",
        "plt.show()\n"
      ]
    },
    {
      "cell_type": "markdown",
      "metadata": {},
      "source": [
        "- Both training and validation loss decrease significantly in the early epochs, indicating effective learning. \n",
        "- Validation loss plateaus around epoch 3, suggesting stabilization in generalization performance. \n",
        "- Training loss continues to decrease while validation loss increases after epoch 4, indicating potential overfitting.\n",
        "- Training halted at epoch 8 due to early stopping, preventing further overfitting."
      ]
    }
  ],
  "metadata": {
    "colab": {
      "provenance": []
    },
    "kernelspec": {
      "display_name": "Python 3",
      "name": "python3"
    },
    "language_info": {
      "codemirror_mode": {
        "name": "ipython",
        "version": 3
      },
      "file_extension": ".py",
      "mimetype": "text/x-python",
      "name": "python",
      "nbconvert_exporter": "python",
      "pygments_lexer": "ipython3",
      "version": "3.8.19"
    }
  },
  "nbformat": 4,
  "nbformat_minor": 0
}
