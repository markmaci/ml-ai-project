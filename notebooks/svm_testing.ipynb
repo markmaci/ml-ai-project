{
 "cells": [
  {
   "cell_type": "code",
   "execution_count": 1,
   "metadata": {},
   "outputs": [
    {
     "name": "stderr",
     "output_type": "stream",
     "text": [
      "[nltk_data] Downloading package punkt to /Users/markmaci/nltk_data...\n",
      "[nltk_data]   Package punkt is already up-to-date!\n",
      "[nltk_data] Downloading package wordnet to\n",
      "[nltk_data]     /Users/markmaci/nltk_data...\n",
      "[nltk_data]   Package wordnet is already up-to-date!\n",
      "/Users/markmaci/miniconda3/lib/python3.11/site-packages/datasets/load.py:1486: FutureWarning: The repository for sentiment140 contains custom code which must be executed to correctly load the dataset. You can inspect the repository content at https://hf.co/datasets/sentiment140\n",
      "You can avoid this message in future by passing the argument `trust_remote_code=True`.\n",
      "Passing `trust_remote_code=True` will be mandatory to load this dataset from the next major release of `datasets`.\n",
      "  warnings.warn(\n"
     ]
    }
   ],
   "source": [
    "import sys\n",
    "import os\n",
    "sys.path.append(os.path.abspath('..'))\n",
    "\n",
    "\n",
    "import pandas as pd\n",
    "from sklearn.model_selection import train_test_split\n",
    "from sklearn.metrics import accuracy_score, classification_report, confusion_matrix, ConfusionMatrixDisplay\n",
    "from models import CustomSVM\n",
    "from utils import preprocess_data, extract_features\n",
    "from datasets import load_dataset\n",
    "import matplotlib.pyplot as plt\n",
    "\n",
    "dataset = load_dataset(\"sentiment140\")"
   ]
  },
  {
   "cell_type": "code",
   "execution_count": 2,
   "metadata": {},
   "outputs": [
    {
     "name": "stdout",
     "output_type": "stream",
     "text": [
      "                                                text  \\\n",
      "0  @switchfoot http://twitpic.com/2y1zl - Awww, t...   \n",
      "1  is upset that he can't update his Facebook by ...   \n",
      "2  @Kenichan I dived many times for the ball. Man...   \n",
      "3    my whole body feels itchy and like its on fire    \n",
      "4  @nationwideclass no, it's not behaving at all....   \n",
      "\n",
      "                           date             user  sentiment     query  \n",
      "0  Mon Apr 06 22:19:45 PDT 2009  _TheSpecialOne_          0  NO_QUERY  \n",
      "1  Mon Apr 06 22:19:49 PDT 2009    scotthamilton          0  NO_QUERY  \n",
      "2  Mon Apr 06 22:19:53 PDT 2009         mattycus          0  NO_QUERY  \n",
      "3  Mon Apr 06 22:19:57 PDT 2009          ElleCTF          0  NO_QUERY  \n",
      "4  Mon Apr 06 22:19:57 PDT 2009           Karoli          0  NO_QUERY  \n",
      "Feature extraction complete. Proceeding with training...\n"
     ]
    }
   ],
   "source": [
    "df = pd.DataFrame(dataset['train'])\n",
    "\n",
    "print(df.head())\n",
    "\n",
    "# Rename 'sentiment' to 'target'\n",
    "df = df.rename(columns={\"sentiment\": \"target\"})\n",
    "\n",
    "# Drop rows with NaN values in 'target' and 'text'\n",
    "df.dropna(subset=['target', 'text'], inplace=True)\n",
    "\n",
    "# Preprocess data\n",
    "df = preprocess_data(df)\n",
    "\n",
    "# Feature extraction method: 'tfidf' or 'glove'\n",
    "feature_method = 'tfidf'\n",
    "glove_path = '../data/glove.840B.300d.txt'\n",
    "\n",
    "# Extract features\n",
    "X = extract_features(df, method=feature_method, glove_path=glove_path)\n",
    "y = df['target'].values\n",
    "\n",
    "# Ensure feature matrix X and target vector y are of the same length\n",
    "assert len(X) == len(y), \"Mismatch in lengths of X and y\"\n",
    "\n",
    "print(\"Feature extraction complete. Proceeding with training...\")\n"
   ]
  },
  {
   "cell_type": "code",
   "execution_count": 3,
   "metadata": {},
   "outputs": [
    {
     "name": "stdout",
     "output_type": "stream",
     "text": [
      "Epoch 1/5 - Loss: 1557774.9535 - Time: 37.85 seconds\n",
      "Epoch 2/5 - Loss: 4000724.9285 - Time: 36.33 seconds\n",
      "Epoch 3/5 - Loss: 1427506.5882 - Time: 36.82 seconds\n",
      "Epoch 4/5 - Loss: 1245722.5863 - Time: 36.52 seconds\n",
      "Epoch 5/5 - Loss: 1247395.5705 - Time: 36.88 seconds\n"
     ]
    }
   ],
   "source": [
    "X_train, X_test, y_train, y_test = train_test_split(X, y, test_size=0.2, random_state=42)\n",
    "\n",
    "svm = CustomSVM(C=1.0, learning_rate=0.001, epochs=50, batch_size=100)\n",
    "svm.fit(X_train, y_train)\n",
    "y_pred = svm.predict(X_test)"
   ]
  },
  {
   "cell_type": "code",
   "execution_count": 4,
   "metadata": {},
   "outputs": [
    {
     "name": "stdout",
     "output_type": "stream",
     "text": [
      "Accuracy: 0.77931875\n",
      "Classification Report:\n",
      "               precision    recall  f1-score   support\n",
      "\n",
      "          -1       0.74      0.86      0.80    159494\n",
      "           1       0.84      0.69      0.76    160506\n",
      "\n",
      "    accuracy                           0.78    320000\n",
      "   macro avg       0.79      0.78      0.78    320000\n",
      "weighted avg       0.79      0.78      0.78    320000\n",
      "\n",
      "              precision    recall  f1-score   support\n",
      "\n",
      "          -1       0.74      0.86      0.80    159494\n",
      "           1       0.84      0.69      0.76    160506\n",
      "\n",
      "    accuracy                           0.78    320000\n",
      "   macro avg       0.79      0.78      0.78    320000\n",
      "weighted avg       0.79      0.78      0.78    320000\n",
      "\n"
     ]
    }
   ],
   "source": [
    "accuracy = accuracy_score(y_test, y_pred)\n",
    "report = classification_report(y_test, y_pred)\n",
    "print(f\"Accuracy: {accuracy}\")\n",
    "print(f\"Classification Report:\\n {report}\")\n",
    "print(report)"
   ]
  },
  {
   "cell_type": "code",
   "execution_count": 5,
   "metadata": {},
   "outputs": [
    {
     "data": {
      "image/png": "[encoded data removed]",
      "text/plain": [
       "<Figure size 640x480 with 2 Axes>"
      ]
     },
     "metadata": {},
     "output_type": "display_data"
    }
   ],
   "source": [
    "cm = confusion_matrix(y_test, y_pred, labels=[-1, 0, 1])\n",
    "disp = ConfusionMatrixDisplay(confusion_matrix=cm, display_labels=[-1, 0, 1])\n",
    "disp.plot(cmap=plt.cm.Blues)\n",
    "plt.title('Confusion Matrix')\n",
    "plt.show()"
   ]
  }
 ],
 "metadata": {
  "kernelspec": {
   "display_name": "base",
   "language": "python",
   "name": "python3"
  },
  "language_info": {
   "codemirror_mode": {
    "name": "ipython",
    "version": 3
   },
   "file_extension": ".py",
   "mimetype": "text/x-python",
   "name": "python",
   "nbconvert_exporter": "python",
   "pygments_lexer": "ipython3",
   "version": "3.11.5"
  }
 },
 "nbformat": 4,
 "nbformat_minor": 2
}
