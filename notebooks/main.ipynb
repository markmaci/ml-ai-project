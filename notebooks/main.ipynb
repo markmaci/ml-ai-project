{
 "cells": [
  {
   "cell_type": "code",
   "execution_count": null,
   "metadata": {},
   "outputs": [],
   "source": [
    "import cnn_model from cnn_modules\n",
    "import svm_model from svm_modules\n",
    "import roberta_model from roberta_modules"
   ]
  }
 ],
 "metadata": {
  "language_info": {
   "name": "python"
  }
 },
 "nbformat": 4,
 "nbformat_minor": 2
}
